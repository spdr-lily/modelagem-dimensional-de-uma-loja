{
  "nbformat": 4,
  "nbformat_minor": 0,
  "metadata": {
    "colab": {
      "provenance": [],
      "authorship_tag": "ABX9TyNqY54pStKlQbvlBwnY5SdS",
      "include_colab_link": true
    },
    "kernelspec": {
      "name": "python3",
      "display_name": "Python 3"
    },
    "language_info": {
      "name": "python"
    }
  },
  "cells": [
    {
      "cell_type": "markdown",
      "metadata": {
        "id": "view-in-github",
        "colab_type": "text"
      },
      "source": [
        "<a href=\"https://colab.research.google.com/github/spdr-lily/modelagem-dimensional-de-uma-loja/blob/main/modelagem_dimensional.ipynb\" target=\"_parent\"><img src=\"https://colab.research.google.com/assets/colab-badge.svg\" alt=\"Open In Colab\"/></a>"
      ]
    },
    {
      "cell_type": "markdown",
      "source": [
        "# Projeto de Modelagem Dimensional\n",
        "Com dados simulados de vendas de uma empresa"
      ],
      "metadata": {
        "id": "Ewu0FC5omWd9"
      }
    },
    {
      "cell_type": "code",
      "execution_count": 1,
      "metadata": {
        "id": "pjj3qEQ1mTZF"
      },
      "outputs": [],
      "source": [
        "# importação de bibliotecas\n",
        "import pandas as pd\n",
        "import numpy as np"
      ]
    },
    {
      "cell_type": "code",
      "source": [
        "# dados simulados\n",
        "data = {\n",
        "    'date': pd.date_range(start='2023-01-01', periods=100, freq='D'),\n",
        "    'sales_amount': np.random.randint(100, 500, size=100),\n",
        "    'product_id': np.random.choice(['P1','P2','P3'], size=100)\n",
        "}"
      ],
      "metadata": {
        "id": "DlMH5fk-muiJ"
      },
      "execution_count": 3,
      "outputs": []
    },
    {
      "cell_type": "code",
      "source": [
        "# criando DataFrame\n",
        "sales_df = pd.DataFrame(data)\n",
        "print(sales_df.head())"
      ],
      "metadata": {
        "colab": {
          "base_uri": "https://localhost:8080/"
        },
        "id": "UGUPomvAnJNc",
        "outputId": "9abdd72c-7aa0-464f-8d73-79809195d16e"
      },
      "execution_count": 4,
      "outputs": [
        {
          "output_type": "stream",
          "name": "stdout",
          "text": [
            "        date  sales_amount product_id\n",
            "0 2023-01-01           327         P1\n",
            "1 2023-01-02           155         P3\n",
            "2 2023-01-03           406         P3\n",
            "3 2023-01-04           305         P2\n",
            "4 2023-01-05           281         P1\n"
          ]
        }
      ]
    },
    {
      "cell_type": "markdown",
      "source": [
        "Neste exemplo, foi criado um DataFrame com três colunas: ‘date’, ‘sales_amount’ e ‘product_id’. A coluna ‘date’ contém datas, ‘sales_amount’ contém valores de vendas simulados, e ‘product_id’ identifica os produtos vendidos. Este DataFrame representa os fatos (vendas) e suas medidas (quantidade de vendas)."
      ],
      "metadata": {
        "id": "EPCdJ1LInW_N"
      }
    },
    {
      "cell_type": "markdown",
      "source": [
        "# Fatos e Medidas: Estrutura de um Cubo de Dados"
      ],
      "metadata": {
        "id": "vufAfjulnhtH"
      }
    },
    {
      "cell_type": "code",
      "source": [
        "import xarray as xr"
      ],
      "metadata": {
        "id": "mpI9ibnhnSHp"
      },
      "execution_count": 5,
      "outputs": []
    },
    {
      "cell_type": "code",
      "source": [
        "# convertendo o DataFrame pandas em um DataArray xarray (cubo de dados)\n",
        "data_array = sales_df.set_index(['date', 'product_id']).to_xarray()\n",
        "print(data_array)"
      ],
      "metadata": {
        "colab": {
          "base_uri": "https://localhost:8080/"
        },
        "id": "Y8KEfa0cnpzX",
        "outputId": "93ed1e87-594d-4bb0-fbb3-33a96fa34a2e"
      },
      "execution_count": 6,
      "outputs": [
        {
          "output_type": "stream",
          "name": "stdout",
          "text": [
            "<xarray.Dataset> Size: 3kB\n",
            "Dimensions:       (date: 100, product_id: 3)\n",
            "Coordinates:\n",
            "  * date          (date) datetime64[ns] 800B 2023-01-01 ... 2023-04-10\n",
            "  * product_id    (product_id) object 24B 'P1' 'P2' 'P3'\n",
            "Data variables:\n",
            "    sales_amount  (date, product_id) float64 2kB 327.0 nan nan ... 337.0 nan nan\n"
          ]
        }
      ]
    },
    {
      "cell_type": "markdown",
      "source": [
        "Esses dados são então convertidos em um DataArray da biblioteca Xarray, que nos permite representar os dados em uma estrutura multidimensional. O DataArray criado permite acessar e manipular os dados de forma mais intuitiva e eficiente."
      ],
      "metadata": {
        "id": "AqZK48LTojgn"
      }
    },
    {
      "cell_type": "code",
      "source": [
        "# indexando o DataFrame por data para consultas mais rápidas\n",
        "sales_df.set_index('date', inplace=True)\n",
        "print(\"\\nDataFrame indexado por data:\")\n",
        "print(sales_df.loc['2023-01-01'])"
      ],
      "metadata": {
        "colab": {
          "base_uri": "https://localhost:8080/"
        },
        "id": "NEt24JJKn7pn",
        "outputId": "8fae95ba-8a85-4d12-f397-55bd39d40ab7"
      },
      "execution_count": 7,
      "outputs": [
        {
          "output_type": "stream",
          "name": "stdout",
          "text": [
            "\n",
            "DataFrame indexado por data:\n",
            "sales_amount    327\n",
            "product_id       P1\n",
            "Name: 2023-01-01 00:00:00, dtype: object\n"
          ]
        }
      ]
    },
    {
      "cell_type": "code",
      "source": [],
      "metadata": {
        "id": "7mRFhtcRo-3n"
      },
      "execution_count": null,
      "outputs": []
    }
  ]
}